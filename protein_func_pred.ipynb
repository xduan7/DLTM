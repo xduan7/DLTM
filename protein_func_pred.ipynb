{
 "cells": [
  {
   "cell_type": "code",
   "execution_count": 1,
   "metadata": {
    "collapsed": false
   },
   "outputs": [],
   "source": [
    "import os\n",
    "import numpy as np\n",
    "\n",
    "token_len = 4\n",
    "data_dir = './data/aa%i/' % token_len\n",
    "\n",
    "data_filename = 'data.npy'\n",
    "indices_filename = 'indices.npy'\n",
    "indptr_filename = 'indptr.npy'\n",
    "labels_filename = 'labels.npy'\n",
    "shape_filename = 'shape.npy'\n",
    "vocab_filename = 'vocab.npy'\n",
    "\n",
    "feature_dtype = np.int8\n",
    "\n",
    "data = np.load(os.path.join(data_dir, data_filename)).astype(\n",
    "    feature_dtype)\n",
    "indices = np.load(os.path.join(data_dir, indices_filename)).astype(\n",
    "    np.int32)\n",
    "indptr = np.load(os.path.join(data_dir, indptr_filename)).astype(\n",
    "    np.int32)\n",
    "labels = np.load(os.path.join(data_dir, labels_filename)).astype(\n",
    "    np.int32)\n",
    "shape = np.load(os.path.join(data_dir, shape_filename))"
   ]
  },
  {
   "cell_type": "code",
   "execution_count": 2,
   "metadata": {
    "collapsed": false
   },
   "outputs": [],
   "source": [
    "from scipy.sparse import csr_matrix\n",
    "\n",
    "# Using sparse matrix to save space\n",
    "col_ind = indices\n",
    "row_ind = np.zeros((len(data)), dtype=np.int32)\n",
    "\n",
    "for i in range(len(indptr) - 1):\n",
    "    row_ind[indptr[i]: indptr[i + 1]] += i\n",
    "\n",
    "features = csr_matrix((data, (row_ind, col_ind)), shape)"
   ]
  },
  {
   "cell_type": "code",
   "execution_count": 3,
   "metadata": {},
   "outputs": [],
   "source": [
    "from sklearn.model_selection import train_test_split\n",
    "\n",
    "X_train, X_test, y_train, y_test = train_test_split(\n",
    "    features, labels, test_size=0.1, stratify=labels)\n",
    "del features"
   ]
  },
  {
   "cell_type": "code",
   "execution_count": 4,
   "metadata": {},
   "outputs": [],
   "source": [
    "import multiprocessing\n",
    "from sklearn.linear_model import SGDClassifier\n",
    "\n",
    "clf = SGDClassifier(loss='hinge',\n",
    "                    penalty='elasticnet',\n",
    "                    max_iter=20,\n",
    "                    n_jobs=(multiprocessing.cpu_count()-2))\n",
    "clf.fit(X_train, y_train)\n",
    "print('Test accuracy: %.3f' % clf.score(X_test, y_test))"
   ]
  },
  {
   "cell_type": "code",
   "execution_count": null,
   "metadata": {},
   "outputs": [],
   "source": []
  }
 ],
 "metadata": {
  "kernelspec": {
   "display_name": "Python 2",
   "language": "python",
   "name": "python2"
  },
  "language_info": {
   "codemirror_mode": {
    "name": "ipython",
    "version": 2
   },
   "file_extension": ".py",
   "mimetype": "text/x-python",
   "name": "python",
   "nbconvert_exporter": "python",
   "pygments_lexer": "ipython2",
   "version": "2.7.6"
  }
 },
 "nbformat": 4,
 "nbformat_minor": 0
}
